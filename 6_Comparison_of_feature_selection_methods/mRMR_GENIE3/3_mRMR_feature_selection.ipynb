{
 "cells": [
  {
   "cell_type": "code",
   "execution_count": 1,
   "metadata": {},
   "outputs": [],
   "source": [
    "import numpy as np\n",
    "import pandas as pd\n",
    "import time\n",
    "from sklearn.model_selection import train_test_split\n",
    "import mifs"
   ]
  },
  {
   "cell_type": "code",
   "execution_count": 2,
   "metadata": {},
   "outputs": [
    {
     "name": "stdout",
     "output_type": "stream",
     "text": [
      "(11959,)\n",
      "(296, 11959)\n",
      "(296,)\n"
     ]
    }
   ],
   "source": [
    "data = np.load('../data/oversampled_data.npy', allow_pickle=True)\n",
    "gene = np.load('../data/geneAfterDiscard_0.npy', allow_pickle=True)\n",
    "\n",
    "feature = data[:, :-1]\n",
    "label = np.array(data[:, -1], dtype=int)\n",
    "print(gene.shape)\n",
    "print(feature.shape)\n",
    "print(label.shape)"
   ]
  },
  {
   "cell_type": "code",
   "execution_count": 3,
   "metadata": {
    "tags": []
   },
   "outputs": [
    {
     "name": "stdout",
     "output_type": "stream",
     "text": [
      "Selected feature #1 / 60 : 1667, MRMR : 0.19185239978849156\n",
      "Selected feature #2 / 60 : 9184, MRMR : 0.1277786491559474\n",
      "Selected feature #3 / 60 : 8789, MRMR : 0.13851230259766023\n",
      "Selected feature #4 / 60 : 10235, MRMR : 0.13575141919676526\n",
      "Selected feature #5 / 60 : 8986, MRMR : 0.12041152366526298\n",
      "Selected feature #6 / 60 : 2429, MRMR : 0.1194738255673542\n",
      "Selected feature #7 / 60 : 193, MRMR : 0.11279491751690252\n",
      "Selected feature #8 / 60 : 5485, MRMR : 0.10865320715190485\n",
      "Selected feature #9 / 60 : 2980, MRMR : 0.10659037704261021\n",
      "Selected feature #10 / 60 : 3920, MRMR : 0.12090383170001706\n",
      "Selected feature #11 / 60 : 3820, MRMR : 0.10541164757630028\n",
      "Selected feature #12 / 60 : 296, MRMR : 0.1040900676250045\n",
      "Selected feature #13 / 60 : 1750, MRMR : 0.103560568467437\n",
      "Selected feature #14 / 60 : 10397, MRMR : 0.10166229822086637\n",
      "Selected feature #15 / 60 : 2004, MRMR : 0.09980230199370643\n",
      "Selected feature #16 / 60 : 6753, MRMR : 0.09852273121060909\n",
      "Selected feature #17 / 60 : 4242, MRMR : 0.09527199382936757\n",
      "Selected feature #18 / 60 : 8760, MRMR : 0.08947829485386194\n",
      "Selected feature #19 / 60 : 2672, MRMR : 0.09171848500704667\n",
      "Selected feature #20 / 60 : 7612, MRMR : 0.09066604380200927\n",
      "Selected feature #21 / 60 : 204, MRMR : 0.0918820779425209\n",
      "Selected feature #22 / 60 : 9374, MRMR : 0.08905884501978223\n",
      "Selected feature #23 / 60 : 467, MRMR : 0.08821478523068693\n",
      "Selected feature #24 / 60 : 8419, MRMR : 0.087717743548053\n",
      "Selected feature #25 / 60 : 7588, MRMR : 0.087804534376312\n",
      "Selected feature #26 / 60 : 9078, MRMR : 0.121278204935245\n",
      "Selected feature #27 / 60 : 53, MRMR : 0.08429724346818655\n",
      "Selected feature #28 / 60 : 10492, MRMR : 0.08285452316640157\n",
      "Selected feature #29 / 60 : 4422, MRMR : 0.09363235871673373\n",
      "Selected feature #30 / 60 : 11219, MRMR : 0.08176569920546525\n",
      "Selected feature #31 / 60 : 5137, MRMR : 0.08028232250472644\n",
      "Selected feature #32 / 60 : 11131, MRMR : 0.07790351826027253\n",
      "Selected feature #33 / 60 : 2350, MRMR : 0.0889936292467306\n",
      "Selected feature #34 / 60 : 3774, MRMR : 0.07749561234737296\n",
      "Selected feature #35 / 60 : 4803, MRMR : 0.07742124212050372\n",
      "Selected feature #36 / 60 : 4763, MRMR : 0.0764490698774142\n",
      "Selected feature #37 / 60 : 10059, MRMR : 0.0735424491527894\n",
      "Selected feature #38 / 60 : 5118, MRMR : 0.07283412280377011\n",
      "Selected feature #39 / 60 : 7057, MRMR : 0.07337992856293665\n",
      "Selected feature #40 / 60 : 1740, MRMR : 0.07450588588185328\n",
      "Selected feature #41 / 60 : 369, MRMR : 0.07455449007072115\n",
      "Selected feature #42 / 60 : 8478, MRMR : 0.08921525660520535\n",
      "Selected feature #43 / 60 : 11370, MRMR : 0.07256874143431258\n",
      "Selected feature #44 / 60 : 6767, MRMR : 0.07220091109482903\n",
      "Selected feature #45 / 60 : 8748, MRMR : 0.07201223891158803\n",
      "Selected feature #46 / 60 : 11524, MRMR : 0.07391385022452424\n",
      "Selected feature #47 / 60 : 9640, MRMR : 0.07372027999779908\n",
      "Selected feature #48 / 60 : 8337, MRMR : 0.07159115987071489\n",
      "Selected feature #49 / 60 : 7392, MRMR : 0.0697036662094086\n",
      "Selected feature #50 / 60 : 9703, MRMR : 0.07037233071020799\n",
      "Selected feature #51 / 60 : 2771, MRMR : 0.07166219673598885\n",
      "Selected feature #52 / 60 : 5129, MRMR : 0.07012666813518073\n",
      "Selected feature #53 / 60 : 3189, MRMR : 0.06956908471125178\n",
      "Selected feature #54 / 60 : 8633, MRMR : 0.06925014330024457\n",
      "Selected feature #55 / 60 : 2337, MRMR : 0.07140538039605637\n",
      "Selected feature #56 / 60 : 3244, MRMR : 0.07311870809984225\n",
      "Selected feature #57 / 60 : 10554, MRMR : 0.06717768727550391\n",
      "Selected feature #58 / 60 : 4671, MRMR : 0.06763749185493163\n",
      "Selected feature #59 / 60 : 6020, MRMR : 0.06692126034355197\n",
      "Selected feature #60 / 60 : 9, MRMR : 0.06531788775719444\n",
      "[False False False ... False False False]\n",
      "[1667, 9184, 8789, 10235, 8986, 2429, 193, 5485, 2980, 3920, 3820, 296, 1750, 10397, 2004, 6753, 4242, 8760, 2672, 7612, 204, 9374, 467, 8419, 7588, 9078, 53, 10492, 4422, 11219, 5137, 11131, 2350, 3774, 4803, 4763, 10059, 5118, 7057, 1740, 369, 8478, 11370, 6767, 8748, 11524, 9640, 8337, 7392, 9703, 2771, 5129, 3189, 8633, 2337, 3244, 10554, 4671, 6020, 9]\n",
      "duration:279.56551456451416\n"
     ]
    }
   ],
   "source": [
    "tic = time.time()\n",
    "\n",
    "# Make sure to compute the feature importance scores from only your training set\n",
    "X_train, X_test, y_train, y_test = train_test_split(feature, label, test_size=0.3, shuffle=True)\n",
    "fs = mifs.MutualInformationFeatureSelector(method='MRMR', n_features=60, verbose=2, n_jobs=8)\n",
    "fs.fit(X_train, y_train)\n",
    "\n",
    "# check selected features\n",
    "print(fs._support_mask)\n",
    "\n",
    "# check ranking of features\n",
    "print(fs.ranking_)\n",
    "\n",
    "toc = time.time()\n",
    "duration = toc-tic\n",
    "print(f'duration:{duration}')"
   ]
  },
  {
   "cell_type": "code",
   "execution_count": 4,
   "metadata": {},
   "outputs": [],
   "source": [
    "np.save('select_gene_index.npy', np.array(fs.ranking_))"
   ]
  },
  {
   "cell_type": "code",
   "execution_count": null,
   "metadata": {},
   "outputs": [],
   "source": []
  }
 ],
 "metadata": {
  "kernelspec": {
   "display_name": "Python 3 (ipykernel)",
   "language": "python",
   "name": "python3"
  },
  "language_info": {
   "codemirror_mode": {
    "name": "ipython",
    "version": 3
   },
   "file_extension": ".py",
   "mimetype": "text/x-python",
   "name": "python",
   "nbconvert_exporter": "python",
   "pygments_lexer": "ipython3",
   "version": "3.9.12"
  }
 },
 "nbformat": 4,
 "nbformat_minor": 4
}
