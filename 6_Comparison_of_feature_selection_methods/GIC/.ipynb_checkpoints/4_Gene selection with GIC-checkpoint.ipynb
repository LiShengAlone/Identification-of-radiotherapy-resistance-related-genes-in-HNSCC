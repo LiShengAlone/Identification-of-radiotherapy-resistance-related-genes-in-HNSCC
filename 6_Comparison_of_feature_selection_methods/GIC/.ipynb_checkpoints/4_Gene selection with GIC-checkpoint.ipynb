{
 "cells": [
  {
   "cell_type": "code",
   "execution_count": 1,
   "id": "a2f38cee-a03a-41ae-ba1f-8e5ec4bf61cb",
   "metadata": {},
   "outputs": [],
   "source": [
    "import numpy as np\n",
    "import pandas as pd\n",
    "import time\n",
    "from sklearn.model_selection import train_test_split\n",
    "import matplotlib.pyplot as plt"
   ]
  },
  {
   "cell_type": "markdown",
   "id": "94f01cb3-e4cb-4710-9f01-5b3a6017510b",
   "metadata": {},
   "source": [
    "# Ranking of feature importance for genes."
   ]
  },
  {
   "cell_type": "code",
   "execution_count": 2,
   "id": "0fea6e74-f0a9-4d71-8d80-6d8049459e4a",
   "metadata": {},
   "outputs": [
    {
     "name": "stdout",
     "output_type": "stream",
     "text": [
      "(11959,)\n",
      "[ 3774  1667  2429 ... 11944 11947 11951]\n"
     ]
    }
   ],
   "source": [
    "allImp = np.load(\"NormalizedImp100.npy\")\n",
    "gene = np.load('../../data/geneAfterDiscard_0.npy', allow_pickle=True)\n",
    "\n",
    "impSum = allImp.sum(axis = 0)\n",
    "\n",
    "geneIdx = [i for i in range(gene.shape[0])]\n",
    "\n",
    "toSort = zip(geneIdx, impSum)\n",
    "sortedImp = sorted(toSort, key=lambda x: x[1], reverse=1)\n",
    "\n",
    "sortedImp = np.array(list(zip(*sortedImp)))\n",
    "\n",
    "sortedIdx = sortedImp[0].astype(int)\n",
    "print(sortedIdx.shape)\n",
    "print(sortedIdx)"
   ]
  },
  {
   "cell_type": "code",
   "execution_count": 3,
   "id": "f32abba9-1faa-48dd-b34f-bd1f2c02ced8",
   "metadata": {},
   "outputs": [
    {
     "name": "stdout",
     "output_type": "stream",
     "text": [
      "(11959,)\n",
      "(296, 11959)\n",
      "(296,)\n"
     ]
    }
   ],
   "source": [
    "data = np.load('../../data/oversampled_data.npy', allow_pickle=True)\n",
    "\n",
    "feature = data[:, :-1]\n",
    "label = data[:, -1]\n",
    "print(gene.shape)\n",
    "print(feature.shape)\n",
    "print(label.shape)"
   ]
  },
  {
   "cell_type": "markdown",
   "id": "003a7855-64c9-4ac1-a74d-be3a6ad011c4",
   "metadata": {},
   "source": [
    "# Select the satisfactory gene."
   ]
  },
  {
   "cell_type": "code",
   "execution_count": 4,
   "id": "5c721aa5-50f3-440a-a018-e3e099164ea0",
   "metadata": {},
   "outputs": [],
   "source": [
    "ISGnum = 60\n",
    "\n",
    "ISGidx = sortedIdx[:ISGnum]\n",
    "\n",
    "ISGfeature = feature[:, ISGidx]\n",
    "ISG = gene[ISGidx]"
   ]
  },
  {
   "cell_type": "markdown",
   "id": "98c4236f-501e-4bd5-9cef-40432a59adf9",
   "metadata": {},
   "source": [
    "# calculate GIC"
   ]
  },
  {
   "cell_type": "code",
   "execution_count": 5,
   "id": "c06f4fe4-3f06-4021-9e6e-04ac49734f72",
   "metadata": {},
   "outputs": [],
   "source": [
    "TGidx = np.where(label > 0.5)\n",
    "SGidx = np.where(label < 0.5)\n",
    "\n",
    "TGISGfeature = ISGfeature[TGidx]\n",
    "TGlabel = label[TGidx]\n",
    "SGISGfeature = ISGfeature[SGidx]\n",
    "SGlabel = label[SGidx]"
   ]
  },
  {
   "cell_type": "code",
   "execution_count": 6,
   "id": "61362b90-939c-40d9-8eda-2a5fd639c30e",
   "metadata": {},
   "outputs": [],
   "source": [
    "mean = SGISGfeature.mean(axis = 0)\n",
    "std = SGISGfeature.std(axis = 0)"
   ]
  },
  {
   "cell_type": "code",
   "execution_count": 7,
   "id": "5ee92ef7-b8ef-46c0-a104-b42239be13e3",
   "metadata": {},
   "outputs": [],
   "source": [
    "from scipy.special import comb, perm\n",
    "\n",
    "def calculateGIC(x, mean, std, upper_bar = 0.2, lower_bar = -0.2):\n",
    "    \n",
    "    sampleNum = x.shape[0]\n",
    "    ISGNUM = x.shape[1]\n",
    "    \n",
    "    b = (x - mean) / std\n",
    "\n",
    "    c = np.zeros(b.shape, dtype = 'int')\n",
    "    c = np.where(b > upper_bar, 1, c)\n",
    "    c = np.where(b < lower_bar, -1, c)\n",
    "    \n",
    "    pariNum = int(comb(ISGNUM, 2))\n",
    "    d = np.zeros((sampleNum, pariNum), dtype = 'float')\n",
    "    cnt = 0\n",
    "    for i in range(ISGNUM):\n",
    "        for j in range(i + 1, ISGNUM):\n",
    "            d[:, cnt] = c[:, i] * c[:, j]\n",
    "            cnt += 1\n",
    "    \n",
    "    return d"
   ]
  },
  {
   "cell_type": "code",
   "execution_count": 8,
   "id": "ddffa3ac-0e31-4407-9542-fe40f9dfa7b1",
   "metadata": {},
   "outputs": [],
   "source": [
    "upper_bar = 0.2\n",
    "lower_bar = -0.2\n",
    "genePairName = []\n",
    "for i in range(ISGnum):\n",
    "    for j in range(i + 1, ISGnum):\n",
    "        genePairName.append([ISG[i], ISG[j]])\n",
    "\n",
    "genePairName = np.array(genePairName)\n",
    "\n",
    "TG_d = calculateGIC(TGISGfeature, mean, std, upper_bar, lower_bar)\n",
    "SG_d = calculateGIC(SGISGfeature, mean, std, upper_bar, lower_bar)\n",
    "\n",
    "X_train, X_test, y_train, y_test = train_test_split(ISGfeature, label, test_size=0.3, shuffle=True, random_state=2022)\n",
    "X_train_d = calculateGIC(X_train, mean, std, upper_bar, lower_bar)\n",
    "X_test_d = calculateGIC(X_test, mean, std, upper_bar, lower_bar)\n"
   ]
  },
  {
   "cell_type": "code",
   "execution_count": 48,
   "id": "d3870aab-f003-49a4-b17f-38180a0011d9",
   "metadata": {
    "tags": []
   },
   "outputs": [
    {
     "name": "stdout",
     "output_type": "stream",
     "text": [
      "(207, 8)\n",
      "(8, 2)\n",
      "使用了9个基因\n"
     ]
    }
   ],
   "source": [
    "# signature gene pair\n",
    "\n",
    "threshold = 0.645\n",
    "retainIdx = abs(TG_d.sum(axis = 0)) >= threshold * TG_d.shape[0]\n",
    "SGP_X_train = X_train_d[:, retainIdx]\n",
    "SGP_X_test = X_test_d[:, retainIdx]\n",
    "\n",
    "selectedGenePair = genePairName[retainIdx]\n",
    "print(SGP_X_train.shape)\n",
    "print(selectedGenePair.shape)\n",
    "used_ISG_gene_num = len(set(selectedGenePair.reshape(-1)))\n",
    "print(f'use {used_ISG_gene_num} genes')"
   ]
  },
  {
   "cell_type": "markdown",
   "id": "44cfb9bf-e289-48b8-b30c-138d15f62473",
   "metadata": {},
   "source": [
    "# SVM test for signature gene pairs"
   ]
  },
  {
   "cell_type": "code",
   "execution_count": 49,
   "id": "ba9fab4b-3575-4b84-8e00-c80209d6d7b6",
   "metadata": {},
   "outputs": [],
   "source": [
    "from sklearn.ensemble import RandomForestClassifier\n",
    "from sklearn.metrics import accuracy_score\n",
    "from sklearn.metrics import precision_score\n",
    "from sklearn.metrics import recall_score\n",
    "from sklearn.metrics import f1_score\n",
    "from sklearn.metrics import roc_auc_score\n",
    "from sklearn.svm import LinearSVC\n",
    "from sklearn import svm"
   ]
  },
  {
   "cell_type": "code",
   "execution_count": 51,
   "id": "c33a91f3-9b1d-41ba-b85b-5ffe9d0033aa",
   "metadata": {
    "tags": []
   },
   "outputs": [
    {
     "name": "stdout",
     "output_type": "stream",
     "text": [
      "9\t0.7865168539325843\t0.8\t0.7441860465116279\t0.8844792719919109\n"
     ]
    }
   ],
   "source": [
    "acc = []\n",
    "prec = []\n",
    "rec = []\n",
    "auc = []\n",
    "\n",
    "numExperiments = 5\n",
    "\n",
    "for i in range(numExperiments):\n",
    "    lsvc = svm.SVC(probability=True) \n",
    "    lsvc.fit(SGP_X_train,y_train)                \n",
    "\n",
    "    y_pred = lsvc.predict(SGP_X_test)\n",
    "    acc.append(accuracy_score(y_test, y_pred))\n",
    "    prec.append(precision_score(y_test, y_pred))\n",
    "    rec.append(recall_score(y_test, y_pred))\n",
    "    predict_prob_y = lsvc.predict_proba(SGP_X_test)[:, 1]\n",
    "    auc.append(roc_auc_score(y_test, predict_prob_y))\n",
    "\n",
    "acc = np.array(acc)\n",
    "prec = np.array(prec)\n",
    "rec = np.array(rec)\n",
    "auc = np.array(auc)\n",
    "\n",
    "print('{}\\t{}\\t{}\\t{}\\t{}'.format(used_ISG_gene_num, acc.mean(), prec.mean(), rec.mean(),  auc.mean()))"
   ]
  },
  {
   "cell_type": "code",
   "execution_count": null,
   "id": "29810cbc-deb9-447b-9d98-b8a0995e9721",
   "metadata": {},
   "outputs": [],
   "source": []
  }
 ],
 "metadata": {
  "kernelspec": {
   "display_name": "Python 3 (ipykernel)",
   "language": "python",
   "name": "python3"
  },
  "language_info": {
   "codemirror_mode": {
    "name": "ipython",
    "version": 3
   },
   "file_extension": ".py",
   "mimetype": "text/x-python",
   "name": "python",
   "nbconvert_exporter": "python",
   "pygments_lexer": "ipython3",
   "version": "3.9.12"
  }
 },
 "nbformat": 4,
 "nbformat_minor": 5
}
