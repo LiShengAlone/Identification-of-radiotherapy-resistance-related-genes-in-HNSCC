{
 "cells": [
  {
   "cell_type": "code",
   "execution_count": 2,
   "metadata": {},
   "outputs": [
    {
     "name": "stdout",
     "output_type": "stream",
     "text": [
      "(11959,)\n",
      "(296, 11959)\n",
      "(296,)\n"
     ]
    }
   ],
   "source": [
    "import numpy as np\n",
    "data = np.load('../data/oversampled_data.npy', allow_pickle=True)\n",
    "gene = np.load('../data/geneAfterDiscard_0.npy', allow_pickle=True)\n",
    "\n",
    "feature = data[:, :-1]\n",
    "label = np.array(data[:, -1], dtype=int)\n",
    "print(gene.shape)\n",
    "print(feature.shape)\n",
    "print(label.shape)"
   ]
  },
  {
   "cell_type": "markdown",
   "metadata": {},
   "source": [
    "# 1 Calculate the importance of genes.\n",
    "+ The feature importance of each gene was calculated using the Recursive Feature Elimination algorithm."
   ]
  },
  {
   "cell_type": "code",
   "execution_count": 3,
   "metadata": {
    "tags": []
   },
   "outputs": [
    {
     "name": "stdout",
     "output_type": "stream",
     "text": [
      "[False False False ... False False False]\n",
      "[11899 11898 11897 ... 11408 11499 11575]\n",
      "duration:4283.385998725891\n"
     ]
    }
   ],
   "source": [
    "from sklearn.ensemble import RandomForestClassifier\n",
    "from sklearn.model_selection import train_test_split\n",
    "from sklearn.feature_selection import RFE\n",
    "import time\n",
    "\n",
    "tic = time.time()\n",
    "\n",
    "X_train, X_test, y_train, y_test = train_test_split(feature, label, test_size=0.3, shuffle=True)\n",
    "\n",
    "clf = RandomForestClassifier(n_jobs=8)\n",
    "fs = RFE(estimator=clf, n_features_to_select=60, step=1)\n",
    "fs.fit(X_train, y_train)\n",
    "\n",
    "# check selected features\n",
    "print(fs.support_)\n",
    "\n",
    "# check ranking of features\n",
    "print(fs.ranking_)\n",
    "\n",
    "toc = time.time()\n",
    "duration = toc-tic\n",
    "print(f'duration:{duration}')"
   ]
  },
  {
   "cell_type": "code",
   "execution_count": 5,
   "metadata": {},
   "outputs": [],
   "source": [
    "gene_mask = np.array(fs.support_)\n",
    "np.save('select_gene_mask.npy', gene_mask)"
   ]
  },
  {
   "cell_type": "code",
   "execution_count": null,
   "metadata": {},
   "outputs": [],
   "source": []
  }
 ],
 "metadata": {
  "kernelspec": {
   "display_name": "Python 3 (ipykernel)",
   "language": "python",
   "name": "python3"
  },
  "language_info": {
   "codemirror_mode": {
    "name": "ipython",
    "version": 3
   },
   "file_extension": ".py",
   "mimetype": "text/x-python",
   "name": "python",
   "nbconvert_exporter": "python",
   "pygments_lexer": "ipython3",
   "version": "3.9.12"
  }
 },
 "nbformat": 4,
 "nbformat_minor": 4
}
