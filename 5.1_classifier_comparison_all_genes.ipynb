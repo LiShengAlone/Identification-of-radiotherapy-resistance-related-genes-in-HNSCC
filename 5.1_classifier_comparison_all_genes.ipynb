{
 "cells": [
  {
   "cell_type": "code",
   "execution_count": 1,
   "id": "a2f38cee-a03a-41ae-ba1f-8e5ec4bf61cb",
   "metadata": {},
   "outputs": [],
   "source": [
    "import numpy as np\n",
    "import pandas as pd\n",
    "import matplotlib.pyplot as plt"
   ]
  },
  {
   "cell_type": "code",
   "execution_count": 2,
   "id": "f32abba9-1faa-48dd-b34f-bd1f2c02ced8",
   "metadata": {},
   "outputs": [
    {
     "name": "stdout",
     "output_type": "stream",
     "text": [
      "(11959,)\n",
      "(296, 11959)\n",
      "(296,)\n"
     ]
    }
   ],
   "source": [
    "data = np.load('data/oversampled_data.npy', allow_pickle=True)\n",
    "gene = np.load('data/geneAfterDiscard_0.npy', allow_pickle=True)\n",
    "\n",
    "feature = data[:, :-1]\n",
    "label = data[:, -1]\n",
    "print(gene.shape)\n",
    "print(feature.shape)\n",
    "print(label.shape)"
   ]
  },
  {
   "cell_type": "code",
   "execution_count": 3,
   "id": "a00ab386-0468-41a6-81e9-0d1c45175c79",
   "metadata": {},
   "outputs": [],
   "source": [
    "from sklearn.model_selection import train_test_split\n",
    "from sklearn.metrics import accuracy_score\n",
    "from sklearn.metrics import precision_score\n",
    "from sklearn.metrics import recall_score\n",
    "from sklearn.metrics import f1_score\n",
    "from sklearn.metrics import roc_auc_score\n",
    "\n",
    "import time\n",
    "\n",
    "X_train, X_test, y_train, y_test = train_test_split(feature, label, test_size=0.3, shuffle=True, random_state=2022)"
   ]
  },
  {
   "cell_type": "markdown",
   "id": "61c6e4ec-282d-43dc-bb61-faa2052ba8c5",
   "metadata": {},
   "source": [
    "# RandomForestClassifier"
   ]
  },
  {
   "cell_type": "code",
   "execution_count": 4,
   "id": "45b6e455-84ee-4fb9-88fd-6e691d5e4f89",
   "metadata": {},
   "outputs": [
    {
     "name": "stdout",
     "output_type": "stream",
     "text": [
      "0.9483\t0.9035\t1.0\t0.9947\t2.477818250656128\n"
     ]
    }
   ],
   "source": [
    "start = time.time()\n",
    "from sklearn.ensemble import RandomForestClassifier\n",
    "\n",
    "allAcc = []\n",
    "allPrec = []\n",
    "allRec = []\n",
    "allAuc = []\n",
    "for _ in range(5):\n",
    "    clf = RandomForestClassifier()\n",
    "    clf.fit(X_train, y_train)  \n",
    "    y_pred = clf.predict(X_test)\n",
    "\n",
    "    allAcc.append(accuracy_score(y_test, y_pred))\n",
    "    allPrec.append(precision_score(y_test, y_pred))\n",
    "    allRec.append(recall_score(y_test, y_pred))\n",
    "    predict_prob_y = clf.predict_proba(X_test)[:, 1]\n",
    "    allAuc.append(roc_auc_score(y_test, predict_prob_y))\n",
    "\n",
    "end = time.time()\n",
    "\n",
    "t = end -start\n",
    "print(f'{round(np.mean(allAcc), 4)}\\t{round(np.mean(allPrec), 4)}\\t{round(np.mean(allRec), 4)}\\t{round(np.mean(allAuc), 4)}\\t{t}')"
   ]
  },
  {
   "cell_type": "markdown",
   "id": "49b37907-977b-45a9-a82f-3116a5870718",
   "metadata": {},
   "source": [
    "# GradientBoostingClassifier"
   ]
  },
  {
   "cell_type": "code",
   "execution_count": 5,
   "id": "e814007c-7c62-4265-9769-9bb126d309ee",
   "metadata": {},
   "outputs": [
    {
     "name": "stdout",
     "output_type": "stream",
     "text": [
      "0.9461\t0.9065\t0.9907\t0.9855\t173.70992755889893\n"
     ]
    }
   ],
   "source": [
    "start = time.time()\n",
    "from sklearn.ensemble import GradientBoostingClassifier\n",
    "\n",
    "allAcc = []\n",
    "allPrec = []\n",
    "allRec = []\n",
    "allAuc = []\n",
    "for _ in range(5):\n",
    "    clf = GradientBoostingClassifier()\n",
    "    clf.fit(X_train, y_train)  \n",
    "    y_pred = clf.predict(X_test)\n",
    "\n",
    "    allAcc.append(accuracy_score(y_test, y_pred))\n",
    "    allPrec.append(precision_score(y_test, y_pred))\n",
    "    allRec.append(recall_score(y_test, y_pred))\n",
    "    predict_prob_y = clf.predict_proba(X_test)[:, 1]\n",
    "    allAuc.append(roc_auc_score(y_test, predict_prob_y))\n",
    "\n",
    "end = time.time()\n",
    "\n",
    "t = end -start\n",
    "print(f'{round(np.mean(allAcc), 4)}\\t{round(np.mean(allPrec), 4)}\\t{round(np.mean(allRec), 4)}\\t{round(np.mean(allAuc), 4)}\\t{t}')"
   ]
  },
  {
   "cell_type": "markdown",
   "id": "3de695c5-e578-4b64-a6c3-b7e6e76ee7a2",
   "metadata": {},
   "source": [
    "# svm"
   ]
  },
  {
   "cell_type": "code",
   "execution_count": 6,
   "id": "d169a219-2343-482a-b84c-9d2a51e616c5",
   "metadata": {},
   "outputs": [
    {
     "name": "stdout",
     "output_type": "stream",
     "text": [
      "0.8315\t0.7593\t0.9535\t0.9358\t61.20520091056824\n"
     ]
    }
   ],
   "source": [
    "start = time.time()\n",
    "from sklearn import svm\n",
    "\n",
    "allAcc = []\n",
    "allPrec = []\n",
    "allRec = []\n",
    "allAuc = []\n",
    "for _ in range(5):\n",
    "    clf = svm.SVC(probability=True)\n",
    "    clf.fit(X_train, y_train)  \n",
    "    y_pred = clf.predict(X_test)\n",
    "\n",
    "    allAcc.append(accuracy_score(y_test, y_pred))\n",
    "    allPrec.append(precision_score(y_test, y_pred))\n",
    "    allRec.append(recall_score(y_test, y_pred))\n",
    "    predict_prob_y = clf.predict_proba(X_test)[:, 1]\n",
    "    allAuc.append(roc_auc_score(y_test, predict_prob_y))\n",
    "\n",
    "end = time.time()\n",
    "\n",
    "t = end -start\n",
    "print(f'{round(np.mean(allAcc), 4)}\\t{round(np.mean(allPrec), 4)}\\t{round(np.mean(allRec), 4)}\\t{round(np.mean(allAuc), 4)}\\t{t}')"
   ]
  },
  {
   "cell_type": "markdown",
   "id": "a6e7f1bc-d459-4089-a6aa-2686e1244c00",
   "metadata": {},
   "source": [
    "# LogisticRegression"
   ]
  },
  {
   "cell_type": "code",
   "execution_count": null,
   "id": "bf1cc762-8f01-4caa-8175-d7fec0ef522a",
   "metadata": {},
   "outputs": [],
   "source": [
    "start = time.time()\n",
    "from sklearn.linear_model import LogisticRegression\n",
    "\n",
    "allAcc = []\n",
    "allPrec = []\n",
    "allRec = []\n",
    "allAuc = []\n",
    "for _ in range(5):\n",
    "    clf = LogisticRegression(max_iter=1000)\n",
    "    clf.fit(X_train, y_train)  \n",
    "    y_pred = clf.predict(X_test)\n",
    "\n",
    "    allAcc.append(accuracy_score(y_test, y_pred))\n",
    "    allPrec.append(precision_score(y_test, y_pred))\n",
    "    allRec.append(recall_score(y_test, y_pred))\n",
    "    predict_prob_y = clf.predict_proba(X_test)[:, 1]\n",
    "    allAuc.append(roc_auc_score(y_test, predict_prob_y))\n",
    "\n",
    "end = time.time()\n",
    "\n",
    "t = end -start\n",
    "print(f'{round(np.mean(allAcc), 4)}\\t{round(np.mean(allPrec), 4)}\\t{round(np.mean(allRec), 4)}\\t{round(np.mean(allAuc), 4)}\\t{t}')"
   ]
  },
  {
   "cell_type": "markdown",
   "id": "303df69a-9e5c-4709-8a31-14afb90b3618",
   "metadata": {},
   "source": [
    "# KNeighborsClassifier"
   ]
  },
  {
   "cell_type": "code",
   "execution_count": 8,
   "id": "bbb671c5-9c2c-4705-8175-73e954789dd4",
   "metadata": {},
   "outputs": [
    {
     "name": "stdout",
     "output_type": "stream",
     "text": [
      "0.6629\t0.589\t1.0\t0.8602\t0.15361952781677246\n"
     ]
    }
   ],
   "source": [
    "start = time.time()\n",
    "from sklearn.neighbors import KNeighborsClassifier\n",
    "\n",
    "allAcc = []\n",
    "allPrec = []\n",
    "allRec = []\n",
    "allAuc = []\n",
    "for _ in range(5):\n",
    "    clf = KNeighborsClassifier()\n",
    "    clf.fit(X_train, y_train)  \n",
    "    y_pred = clf.predict(X_test)\n",
    "\n",
    "    allAcc.append(accuracy_score(y_test, y_pred))\n",
    "    allPrec.append(precision_score(y_test, y_pred))\n",
    "    allRec.append(recall_score(y_test, y_pred))\n",
    "    predict_prob_y = clf.predict_proba(X_test)[:, 1]\n",
    "    allAuc.append(roc_auc_score(y_test, predict_prob_y))\n",
    "\n",
    "end = time.time()\n",
    "\n",
    "t = end -start\n",
    "print(f'{round(np.mean(allAcc), 4)}\\t{round(np.mean(allPrec), 4)}\\t{round(np.mean(allRec), 4)}\\t{round(np.mean(allAuc), 4)}\\t{t}')"
   ]
  },
  {
   "cell_type": "markdown",
   "id": "25195d46-b515-4644-8bc6-b2be7f347056",
   "metadata": {},
   "source": [
    "# MLPClassifier"
   ]
  },
  {
   "cell_type": "code",
   "execution_count": 9,
   "id": "74620e81-3faf-43e4-9e19-ba3aecf763e3",
   "metadata": {},
   "outputs": [
    {
     "name": "stdout",
     "output_type": "stream",
     "text": [
      "0.6472\t0.8412\t0.4186\t0.6705\t38.90723776817322\n"
     ]
    }
   ],
   "source": [
    "start = time.time()\n",
    "from sklearn.neural_network import MLPClassifier\n",
    "\n",
    "allAcc = []\n",
    "allPrec = []\n",
    "allRec = []\n",
    "allAuc = []\n",
    "for _ in range(5):\n",
    "    clf = MLPClassifier(hidden_layer_sizes=(180, 180, 60, 50), max_iter=300)\n",
    "    clf.fit(X_train, y_train)  \n",
    "    y_pred = clf.predict(X_test)\n",
    "\n",
    "    allAcc.append(accuracy_score(y_test, y_pred))\n",
    "    allPrec.append(precision_score(y_test, y_pred))\n",
    "    allRec.append(recall_score(y_test, y_pred))\n",
    "    predict_prob_y = clf.predict_proba(X_test)[:, 1]\n",
    "    allAuc.append(roc_auc_score(y_test, predict_prob_y))\n",
    "\n",
    "end = time.time()\n",
    "\n",
    "t = end -start\n",
    "print(f'{round(np.mean(allAcc), 4)}\\t{round(np.mean(allPrec), 4)}\\t{round(np.mean(allRec), 4)}\\t{round(np.mean(allAuc), 4)}\\t{t}')"
   ]
  },
  {
   "cell_type": "code",
   "execution_count": null,
   "id": "200e59d8-0f8e-42d8-97e5-57d240e900cc",
   "metadata": {},
   "outputs": [],
   "source": []
  }
 ],
 "metadata": {
  "kernelspec": {
   "display_name": "Python 3 (ipykernel)",
   "language": "python",
   "name": "python3"
  },
  "language_info": {
   "codemirror_mode": {
    "name": "ipython",
    "version": 3
   },
   "file_extension": ".py",
   "mimetype": "text/x-python",
   "name": "python",
   "nbconvert_exporter": "python",
   "pygments_lexer": "ipython3",
   "version": "3.9.12"
  }
 },
 "nbformat": 4,
 "nbformat_minor": 5
}
