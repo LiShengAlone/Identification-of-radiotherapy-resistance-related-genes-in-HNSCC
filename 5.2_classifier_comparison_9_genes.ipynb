{
 "cells": [
  {
   "cell_type": "code",
   "execution_count": 5,
   "id": "a2f38cee-a03a-41ae-ba1f-8e5ec4bf61cb",
   "metadata": {},
   "outputs": [],
   "source": [
    "import numpy as np\n",
    "import pandas as pd\n",
    "import matplotlib.pyplot as plt"
   ]
  },
  {
   "cell_type": "code",
   "execution_count": 6,
   "id": "f32abba9-1faa-48dd-b34f-bd1f2c02ced8",
   "metadata": {},
   "outputs": [
    {
     "name": "stdout",
     "output_type": "stream",
     "text": [
      "(11959,)\n",
      "(296, 11959)\n",
      "(296,)\n"
     ]
    }
   ],
   "source": [
    "data = np.load('data/oversampled_data.npy', allow_pickle=True)\n",
    "gene = np.load('data/geneAfterDiscard_0.npy', allow_pickle=True)\n",
    "\n",
    "feature = data[:, :-1]\n",
    "label = data[:, -1]\n",
    "print(gene.shape)\n",
    "print(feature.shape)\n",
    "print(label.shape)"
   ]
  },
  {
   "cell_type": "code",
   "execution_count": 7,
   "id": "7ce92d73-4212-453e-9f6d-199a524b13fd",
   "metadata": {},
   "outputs": [],
   "source": [
    "# Take out the gene of choice.\n",
    "\n",
    "fina_gene = ['SPAG1', 'FIGN', 'NUBPL', 'CHMP5', 'TCF7L2', 'COQ10B', 'BSDC1', 'ZFPM1', 'GRPEL1']\n",
    "gene_idx = []\n",
    "for g in fina_gene:\n",
    "    gene_idx.append(np.where(gene==g)[0][0])\n",
    "gene_idx = np.array(gene_idx)\n",
    "\n",
    "fina_feature = feature[:, gene_idx]"
   ]
  },
  {
   "cell_type": "code",
   "execution_count": 8,
   "id": "a00ab386-0468-41a6-81e9-0d1c45175c79",
   "metadata": {},
   "outputs": [],
   "source": [
    "from sklearn.model_selection import train_test_split\n",
    "from sklearn.metrics import accuracy_score\n",
    "from sklearn.metrics import precision_score\n",
    "from sklearn.metrics import recall_score\n",
    "from sklearn.metrics import roc_auc_score\n",
    "\n",
    "import time\n",
    "\n",
    "X_train, X_test, y_train, y_test = train_test_split(fina_feature, label, test_size=0.3, shuffle=True, random_state=2022)"
   ]
  },
  {
   "cell_type": "markdown",
   "id": "4765b931-987c-4da8-8b55-d7f713d6de4b",
   "metadata": {},
   "source": [
    "# RandomForestClassifier"
   ]
  },
  {
   "cell_type": "code",
   "execution_count": 16,
   "id": "45b6e455-84ee-4fb9-88fd-6e691d5e4f89",
   "metadata": {},
   "outputs": [
    {
     "name": "stdout",
     "output_type": "stream",
     "text": [
      "0.9663\t0.9718\t0.9581\t0.9888\t0.5241339206695557\n"
     ]
    }
   ],
   "source": [
    "start = time.time()\n",
    "from sklearn.ensemble import RandomForestClassifier\n",
    "\n",
    "allAcc = []\n",
    "allPrec = []\n",
    "allRec = []\n",
    "allAuc = []\n",
    "for _ in range(5):\n",
    "    clf = RandomForestClassifier()\n",
    "    clf.fit(X_train, y_train)  \n",
    "    y_pred = clf.predict(X_test)\n",
    "\n",
    "    allAcc.append(accuracy_score(y_test, y_pred))\n",
    "    allPrec.append(precision_score(y_test, y_pred))\n",
    "    allRec.append(recall_score(y_test, y_pred))\n",
    "    predict_prob_y = clf.predict_proba(X_test)[:, 1]\n",
    "    allAuc.append(roc_auc_score(y_test, predict_prob_y))\n",
    "\n",
    "end = time.time()\n",
    "\n",
    "t = end -start\n",
    "print(f'{round(np.mean(allAcc), 4)}\\t{round(np.mean(allPrec), 4)}\\t{round(np.mean(allRec), 4)}\\t{round(np.mean(allAuc), 4)}\\t{t}')"
   ]
  },
  {
   "cell_type": "markdown",
   "id": "93d7361d-f26e-42ce-baff-f4d8553b04eb",
   "metadata": {},
   "source": [
    "# GradientBoostingClassifier"
   ]
  },
  {
   "cell_type": "code",
   "execution_count": 10,
   "id": "e814007c-7c62-4265-9769-9bb126d309ee",
   "metadata": {},
   "outputs": [
    {
     "name": "stdout",
     "output_type": "stream",
     "text": [
      "0.9236\t0.9095\t0.9349\t0.975\t0.3002331256866455\n"
     ]
    }
   ],
   "source": [
    "start = time.time()\n",
    "from sklearn.ensemble import GradientBoostingClassifier\n",
    "\n",
    "allAcc = []\n",
    "allPrec = []\n",
    "allRec = []\n",
    "allAuc = []\n",
    "for _ in range(5):\n",
    "    clf = GradientBoostingClassifier()\n",
    "    clf.fit(X_train, y_train)  \n",
    "    y_pred = clf.predict(X_test)\n",
    "\n",
    "    allAcc.append(accuracy_score(y_test, y_pred))\n",
    "    allPrec.append(precision_score(y_test, y_pred))\n",
    "    allRec.append(recall_score(y_test, y_pred))\n",
    "    predict_prob_y = clf.predict_proba(X_test)[:, 1]\n",
    "    allAuc.append(roc_auc_score(y_test, predict_prob_y))\n",
    "\n",
    "end = time.time()\n",
    "\n",
    "t = end -start\n",
    "print(f'{round(np.mean(allAcc), 4)}\\t{round(np.mean(allPrec), 4)}\\t{round(np.mean(allRec), 4)}\\t{round(np.mean(allAuc), 4)}\\t{t}')"
   ]
  },
  {
   "cell_type": "markdown",
   "id": "6413991c-c2c9-41e1-9cf9-a5cf141537ac",
   "metadata": {},
   "source": [
    "# svm"
   ]
  },
  {
   "cell_type": "code",
   "execution_count": 11,
   "id": "d169a219-2343-482a-b84c-9d2a51e616c5",
   "metadata": {},
   "outputs": [
    {
     "name": "stdout",
     "output_type": "stream",
     "text": [
      "0.8315\t0.7917\t0.8837\t0.9424\t0.05584979057312012\n"
     ]
    }
   ],
   "source": [
    "start = time.time()\n",
    "from sklearn import svm\n",
    "\n",
    "allAcc = []\n",
    "allPrec = []\n",
    "allRec = []\n",
    "allAuc = []\n",
    "for _ in range(5):\n",
    "    clf = svm.SVC(probability=True)\n",
    "    clf.fit(X_train, y_train)  \n",
    "    y_pred = clf.predict(X_test)\n",
    "\n",
    "    allAcc.append(accuracy_score(y_test, y_pred))\n",
    "    allPrec.append(precision_score(y_test, y_pred))\n",
    "    allRec.append(recall_score(y_test, y_pred))\n",
    "    predict_prob_y = clf.predict_proba(X_test)[:, 1]\n",
    "    allAuc.append(roc_auc_score(y_test, predict_prob_y))\n",
    "\n",
    "end = time.time()\n",
    "\n",
    "t = end -start\n",
    "print(f'{round(np.mean(allAcc), 4)}\\t{round(np.mean(allPrec), 4)}\\t{round(np.mean(allRec), 4)}\\t{round(np.mean(allAuc), 4)}\\t{t}')"
   ]
  },
  {
   "cell_type": "markdown",
   "id": "8983f26c-e3a5-4f67-8c48-f61195cf3005",
   "metadata": {},
   "source": [
    "# LogisticRegression"
   ]
  },
  {
   "cell_type": "code",
   "execution_count": 12,
   "id": "4ff2648c-25d4-48fb-b2d4-1a51cbf32fd3",
   "metadata": {},
   "outputs": [
    {
     "name": "stdout",
     "output_type": "stream",
     "text": [
      "0.8652\t0.8298\t0.907\t0.9469\t0.060837507247924805\n"
     ]
    }
   ],
   "source": [
    "start = time.time()\n",
    "from sklearn.linear_model import LogisticRegression\n",
    "\n",
    "allAcc = []\n",
    "allPrec = []\n",
    "allRec = []\n",
    "allAuc = []\n",
    "for _ in range(5):\n",
    "    clf = LogisticRegression()\n",
    "    clf.fit(X_train, y_train)  \n",
    "    y_pred = clf.predict(X_test)\n",
    "\n",
    "    allAcc.append(accuracy_score(y_test, y_pred))\n",
    "    allPrec.append(precision_score(y_test, y_pred))\n",
    "    allRec.append(recall_score(y_test, y_pred))\n",
    "    predict_prob_y = clf.predict_proba(X_test)[:, 1]\n",
    "    allAuc.append(roc_auc_score(y_test, predict_prob_y))\n",
    "\n",
    "end = time.time()\n",
    "\n",
    "t = end -start\n",
    "print(f'{round(np.mean(allAcc), 4)}\\t{round(np.mean(allPrec), 4)}\\t{round(np.mean(allRec), 4)}\\t{round(np.mean(allAuc), 4)}\\t{t}')"
   ]
  },
  {
   "cell_type": "markdown",
   "id": "e4fe144a-93f8-42aa-bc76-6a3e51a6ca6c",
   "metadata": {},
   "source": [
    "# KNeighborsClassifier"
   ]
  },
  {
   "cell_type": "code",
   "execution_count": 13,
   "id": "bbb671c5-9c2c-4705-8175-73e954789dd4",
   "metadata": {},
   "outputs": [
    {
     "name": "stdout",
     "output_type": "stream",
     "text": [
      "0.8315\t0.8043\t0.8605\t0.9138\t0.028429746627807617\n"
     ]
    }
   ],
   "source": [
    "start = time.time()\n",
    "from sklearn.neighbors import KNeighborsClassifier\n",
    "\n",
    "allAcc = []\n",
    "allPrec = []\n",
    "allRec = []\n",
    "allAuc = []\n",
    "for _ in range(5):\n",
    "    clf = KNeighborsClassifier()\n",
    "    clf.fit(X_train, y_train)  \n",
    "    y_pred = clf.predict(X_test)\n",
    "\n",
    "    allAcc.append(accuracy_score(y_test, y_pred))\n",
    "    allPrec.append(precision_score(y_test, y_pred))\n",
    "    allRec.append(recall_score(y_test, y_pred))\n",
    "    predict_prob_y = clf.predict_proba(X_test)[:, 1]\n",
    "    allAuc.append(roc_auc_score(y_test, predict_prob_y))\n",
    "\n",
    "end = time.time()\n",
    "\n",
    "t = end -start\n",
    "print(f'{round(np.mean(allAcc), 4)}\\t{round(np.mean(allPrec), 4)}\\t{round(np.mean(allRec), 4)}\\t{round(np.mean(allAuc), 4)}\\t{t}')"
   ]
  },
  {
   "cell_type": "markdown",
   "id": "dd09b2ed-79da-43d6-8205-c5fb082e65a2",
   "metadata": {},
   "source": [
    "# MLPClassifier"
   ]
  },
  {
   "cell_type": "code",
   "execution_count": 14,
   "id": "74620e81-3faf-43e4-9e19-ba3aecf763e3",
   "metadata": {},
   "outputs": [
    {
     "name": "stdout",
     "output_type": "stream",
     "text": [
      "0.7798\t0.8497\t0.7023\t0.9146\t0.8722796440124512\n"
     ]
    }
   ],
   "source": [
    "start = time.time()\n",
    "from sklearn.neural_network import MLPClassifier\n",
    "\n",
    "allAcc = []\n",
    "allPrec = []\n",
    "allRec = []\n",
    "allAuc = []\n",
    "for _ in range(5):\n",
    "    clf = MLPClassifier(hidden_layer_sizes=(180, 180, 60, 50), max_iter=300)\n",
    "    clf.fit(X_train, y_train)  \n",
    "    y_pred = clf.predict(X_test)\n",
    "\n",
    "    allAcc.append(accuracy_score(y_test, y_pred))\n",
    "    allPrec.append(precision_score(y_test, y_pred))\n",
    "    allRec.append(recall_score(y_test, y_pred))\n",
    "    predict_prob_y = clf.predict_proba(X_test)[:, 1]\n",
    "    allAuc.append(roc_auc_score(y_test, predict_prob_y))\n",
    "\n",
    "end = time.time()\n",
    "\n",
    "t = end -start\n",
    "print(f'{round(np.mean(allAcc), 4)}\\t{round(np.mean(allPrec), 4)}\\t{round(np.mean(allRec), 4)}\\t{round(np.mean(allAuc), 4)}\\t{t}')"
   ]
  },
  {
   "cell_type": "code",
   "execution_count": null,
   "id": "200e59d8-0f8e-42d8-97e5-57d240e900cc",
   "metadata": {},
   "outputs": [],
   "source": []
  }
 ],
 "metadata": {
  "kernelspec": {
   "display_name": "Python 3 (ipykernel)",
   "language": "python",
   "name": "python3"
  },
  "language_info": {
   "codemirror_mode": {
    "name": "ipython",
    "version": 3
   },
   "file_extension": ".py",
   "mimetype": "text/x-python",
   "name": "python",
   "nbconvert_exporter": "python",
   "pygments_lexer": "ipython3",
   "version": "3.9.12"
  }
 },
 "nbformat": 4,
 "nbformat_minor": 5
}
